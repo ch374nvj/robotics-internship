{
 "cells": [
  {
   "cell_type": "markdown",
   "metadata": {},
   "source": [
    "# Team: Top-Gun\n",
    "\n",
    "## Python Fundas"
   ]
  },
  {
   "cell_type": "code",
   "execution_count": 3,
   "metadata": {},
   "outputs": [
    {
     "name": "stdout",
     "output_type": "stream",
     "text": [
      "15\n"
     ]
    }
   ],
   "source": [
    "import math\n",
    "\n",
    "def add(a,b):\n",
    "\n",
    "    return a+b\n",
    "\n",
    "print(add(7,8))"
   ]
  },
  {
   "cell_type": "code",
   "execution_count": null,
   "metadata": {},
   "outputs": [
    {
     "name": "stdout",
     "output_type": "stream",
     "text": [
      "56\n"
     ]
    }
   ],
   "source": [
    "def calculator(a,b,mode='+'):\n",
    "    if mode == '+':\n",
    "        return a+b\n",
    "    elif mode == '-':\n",
    "        return a-b\n",
    "    elif mode == '*':\n",
    "        return a*b\n",
    "    elif mode == '/':\n",
    "        return a/b\n",
    "    elif mode == '%':\n",
    "        return a%b\n",
    "    else:\n",
    "        print(\"Error\")\n",
    "        return 0\n",
    "\n"
   ]
  },
  {
   "cell_type": "code",
   "execution_count": null,
   "metadata": {},
   "outputs": [
    {
     "name": "stdout",
     "output_type": "stream",
     "text": [
      "The result of 45 + 24 is 69 NICE\n"
     ]
    }
   ],
   "source": [
    "def calc():\n",
    "    while True:\n",
    "        a = int(input(\"Enter a no: \"))\n",
    "        b = int(input(\"Enter anotha no: \"))\n",
    "        o = str(input(\"\"\"\n",
    "        Enter operation:\n",
    "        + -> ADD\n",
    "        - -> SUBTRACT\n",
    "        * -> MULTIPLY\n",
    "        / -> QUOTIENT\n",
    "        % -> REMAINDER\n",
    "        \"\"\"))\n",
    "        if o in {'+','-','*','/','%'}:\n",
    "            r = calculator(a,b,o)\n",
    "            op = f\"The result of {a} {o} {b} is {r}\"\n",
    "            if r == 69:\n",
    "                op += \" NICE\"\n",
    "            print(op)\n",
    "            break\n",
    "        else:\n",
    "            print(\"error\")\n",
    "            continue\n",
    "    \n",
    "\n",
    "calc()"
   ]
  },
  {
   "cell_type": "markdown",
   "metadata": {},
   "source": [
    "## Assignment 4"
   ]
  },
  {
   "cell_type": "code",
   "execution_count": null,
   "metadata": {},
   "outputs": [
    {
     "name": "stdout",
     "output_type": "stream",
     "text": [
      "True False\n"
     ]
    }
   ],
   "source": [
    "def isEven(n):\n",
    "    if n%2==0:\n",
    "        return True\n",
    "    else:\n",
    "        return False\n",
    "\n",
    "print(isEven(2),isEven(67))"
   ]
  },
  {
   "cell_type": "code",
   "execution_count": null,
   "metadata": {},
   "outputs": [
    {
     "name": "stdout",
     "output_type": "stream",
     "text": [
      "True False\n"
     ]
    }
   ],
   "source": [
    "def isPrime(n):\n",
    "    for i in range(math.ceil(n/2)):\n",
    "        if i>=2 and n%i == 0:\n",
    "            return False\n",
    "    return True\n",
    "\n",
    "print(isPrime(17),isPrime(22))\n"
   ]
  },
  {
   "cell_type": "code",
   "execution_count": null,
   "metadata": {},
   "outputs": [
    {
     "name": "stdout",
     "output_type": "stream",
     "text": [
      "[1, 2, 3, 6, 9, 18] [1, 3, 7, 21] [1, 17]\n"
     ]
    }
   ],
   "source": [
    "def factors(n):\n",
    "    factors_list = []\n",
    "    for i in range(1,n+1):\n",
    "        if n%i==0:\n",
    "            factors_list.append(i)\n",
    "    return factors_list\n",
    "\n",
    "print(factors(18),factors(21),factors(17))\n"
   ]
  },
  {
   "cell_type": "markdown",
   "metadata": {},
   "source": [
    "## Classes and objects"
   ]
  },
  {
   "cell_type": "code",
   "execution_count": null,
   "metadata": {},
   "outputs": [
    {
     "name": "stdout",
     "output_type": "stream",
     "text": [
      "\n",
      "\n",
      "Hi I'm Bruno of Labrador breed.\n"
     ]
    }
   ],
   "source": [
    "class doggo:\n",
    "    def __init__(self,name,breed):\n",
    "        self.name = name\n",
    "        self.breed = breed\n",
    "    \n",
    "    def intro(self):\n",
    "        print(f\"Hi I'm {self.name} of {self.breed} breed.\")\n",
    "\n",
    "d1 = doggo(\"\",\"\")\n",
    "\n",
    "\n",
    "print(d1.name)\n",
    "print(d1.breed)\n",
    "d1.name = input(\"Enter name\")\n",
    "d1.breed = input(\"Enter breed\")\n",
    "d1.intro()"
   ]
  },
  {
   "cell_type": "code",
   "execution_count": null,
   "metadata": {},
   "outputs": [
    {
     "name": "stdout",
     "output_type": "stream",
     "text": [
      "30\n",
      "22\n"
     ]
    }
   ],
   "source": [
    "class Rectangle:\n",
    "    def __init__(self,l,b):\n",
    "        self.l=l\n",
    "        self.b=b\n",
    "        self.h=0\n",
    "    def area(self):\n",
    "        return self.l*self.b; \n",
    "    def perimeter(self):\n",
    "        return 2*(self.l+self.b);\n",
    "    \n",
    "r1 = Rectangle(5,6)\n",
    "print(r1.area())\n",
    "print(r1.perimeter())"
   ]
  },
  {
   "cell_type": "markdown",
   "metadata": {},
   "source": [
    "### Bank Acc class"
   ]
  },
  {
   "cell_type": "code",
   "execution_count": null,
   "metadata": {},
   "outputs": [
    {
     "name": "stdout",
     "output_type": "stream",
     "text": [
      "Credited $2. Available balance $69422\n",
      "Incorrect amount entered\n",
      "Debited $25. Available balance $69397\n",
      "['Credited $2', 'Debited $25']\n",
      "69397\n"
     ]
    }
   ],
   "source": [
    "class BankAcc:\n",
    "    def __init__(self,name,balance):\n",
    "        self.name = name\n",
    "        self.balance = balance\n",
    "        self.transaction_history = []\n",
    "    \n",
    "    def deposit(self,amt):\n",
    "        if amt > 0:\n",
    "            self.balance += amt\n",
    "            self.transaction_history.append(f'Credited ${amt}')\n",
    "            return (f'Credited ${amt}. Available balance ${self.balance}')\n",
    "        else:\n",
    "            return 'Incorrect amount entered'\n",
    "    def withdraw(self,amt):\n",
    "        if 0 < amt <=self.balance:\n",
    "            self.balance -= amt\n",
    "            self.transaction_history.append(f'Debited ${amt}')\n",
    "            return (f'Debited ${amt}. Available balance ${self.balance}')\n",
    "        else:\n",
    "            return (f'Incorrect amount entered')\n",
    "    def history(self):\n",
    "        return self.transaction_history\n",
    "        \n",
    "a1 = BankAcc(\"maoj\", 69420)\n",
    "print(a1.deposit(2))\n",
    "print(a1.withdraw(79420))\n",
    "print(a1.withdraw(25))\n",
    "print(a1.history())\n",
    "print(a1.balance)"
   ]
  },
  {
   "cell_type": "markdown",
   "metadata": {},
   "source": [
    "## Assignment 5"
   ]
  },
  {
   "cell_type": "code",
   "execution_count": null,
   "metadata": {},
   "outputs": [],
   "source": [
    "class Student:\n",
    "    def __init__(self,f_name='',l_name='',roll_no=0,no_of_subs=0):\n",
    "        self.f_name = f_name\n",
    "        self.l_name = l_name\n",
    "        self.roll_no = roll_no\n",
    "        self.no_of_subs = no_of_subs\n",
    "        self.marks_list =[]\n",
    "        self.sum=0\n",
    "        self.avg=0\n",
    "    \n",
    "    def avgMarks(self):\n",
    "        # self.marks_list = marks_list\n",
    "        for i in self.marks_list:\n",
    "            self.sum += i\n",
    "        self.avg = self.sum/len(self.marks_list)\n",
    "        \n",
    "        return self.avg,self.sum\n",
    "\n",
    "    def details(self):\n",
    "        print(f'''\n",
    "        Name : {self.f_name} {self.l_name} \n",
    "        Roll No: {self.roll_no} \n",
    "        Sum and Average of marks = {self.sum} and {self.avg}.\n",
    "        ''')\n",
    "    \n",
    "    def inputDetails(self):\n",
    "        self.f_name = input('Enter First Name:')\n",
    "        self.l_name = input('Enter Last Name:')\n",
    "        self.roll_no = int(input('Enter Roll no:'))\n",
    "        self.no_of_subs = int(input('Enter No of subs:'))\n",
    "        marks = input('Enter marks seperated by commas:').strip()\n",
    "        marks = marks.split(',')\n",
    "        for i in marks:\n",
    "            self.marks_list.append(int(i))\n",
    "        \n",
    "        self.avgMarks()\n",
    "\n",
    "        self.marks_list.sort()\n"
   ]
  },
  {
   "cell_type": "code",
   "execution_count": null,
   "metadata": {},
   "outputs": [],
   "source": [
    "nostud=int(input(\"No of students\"))\n",
    "student_list = []\n",
    "for i in range(nostud):\n",
    "    p = Student()\n",
    "    p.inputDetails()\n",
    "    student_list.append(p)\n"
   ]
  },
  {
   "cell_type": "code",
   "execution_count": null,
   "metadata": {},
   "outputs": [
    {
     "name": "stdout",
     "output_type": "stream",
     "text": [
      "\n",
      "        Name : f_Name1 l_Name1 \n",
      "        Roll No: 234 \n",
      "        Sum and Average of marks = 10 and 2.5.\n",
      "        \n",
      "\n",
      "        Name : f_name2 l_name2 \n",
      "        Roll No: 567 \n",
      "        Sum and Average of marks = 19 and 4.75.\n",
      "        \n"
     ]
    }
   ],
   "source": [
    "for i in range(nostud):\n",
    "    student_list[i].details()"
   ]
  },
  {
   "cell_type": "code",
   "execution_count": null,
   "metadata": {},
   "outputs": [
    {
     "name": "stdout",
     "output_type": "stream",
     "text": [
      "[<__main__.Student object at 0x7fb5860ba690>, <__main__.Student object at 0x7fb5860ae2d0>]\n"
     ]
    }
   ],
   "source": [
    "print(student_list)"
   ]
  }
 ],
 "metadata": {
  "kernelspec": {
   "display_name": "comedk",
   "language": "python",
   "name": "python3"
  },
  "language_info": {
   "codemirror_mode": {
    "name": "ipython",
    "version": 3
   },
   "file_extension": ".py",
   "mimetype": "text/x-python",
   "name": "python",
   "nbconvert_exporter": "python",
   "pygments_lexer": "ipython3",
   "version": "3.10.13"
  }
 },
 "nbformat": 4,
 "nbformat_minor": 2
}
